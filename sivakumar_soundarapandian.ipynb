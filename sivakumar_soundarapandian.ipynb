{
 "cells": [
  {
   "cell_type": "markdown",
   "id": "816c5626",
   "metadata": {},
   "source": [
    "# Lending Club Case Study"
   ]
  },
  {
   "cell_type": "markdown",
   "id": "3ddf6d55",
   "metadata": {},
   "source": [
    "The loan dataset in the case study contains information about past loan applicants and whether they ‘defaulted’ or not. The goal of this exercise is to use EDA to understand how consumer attributes and loan attributes influence the tendency of default."
   ]
  },
  {
   "cell_type": "markdown",
   "id": "66552525",
   "metadata": {},
   "source": [
    "## Basic Data Understanding"
   ]
  },
  {
   "cell_type": "code",
   "execution_count": 106,
   "id": "2f7c7dcb-73a2-4e22-8cff-38319a699346",
   "metadata": {},
   "outputs": [
    {
     "name": "stdout",
     "output_type": "stream",
     "text": [
      "Number of Rows and Columns in this dataset : (39717, 111)\n",
      "The Columns in this data set are : ['id' 'member_id' 'loan_amnt' 'funded_amnt' 'funded_amnt_inv' 'term'\n",
      " 'int_rate' 'installment' 'grade' 'sub_grade' 'emp_title' 'emp_length'\n",
      " 'home_ownership' 'annual_inc' 'verification_status' 'issue_d'\n",
      " 'loan_status' 'pymnt_plan' 'url' 'desc' 'purpose' 'title' 'zip_code'\n",
      " 'addr_state' 'dti' 'delinq_2yrs' 'earliest_cr_line' 'inq_last_6mths'\n",
      " 'mths_since_last_delinq' 'mths_since_last_record' 'open_acc' 'pub_rec'\n",
      " 'revol_bal' 'revol_util' 'total_acc' 'initial_list_status' 'out_prncp'\n",
      " 'out_prncp_inv' 'total_pymnt' 'total_pymnt_inv' 'total_rec_prncp'\n",
      " 'total_rec_int' 'total_rec_late_fee' 'recoveries'\n",
      " 'collection_recovery_fee' 'last_pymnt_d' 'last_pymnt_amnt' 'next_pymnt_d'\n",
      " 'last_credit_pull_d' 'collections_12_mths_ex_med'\n",
      " 'mths_since_last_major_derog' 'policy_code' 'application_type'\n",
      " 'annual_inc_joint' 'dti_joint' 'verification_status_joint'\n",
      " 'acc_now_delinq' 'tot_coll_amt' 'tot_cur_bal' 'open_acc_6m' 'open_il_6m'\n",
      " 'open_il_12m' 'open_il_24m' 'mths_since_rcnt_il' 'total_bal_il' 'il_util'\n",
      " 'open_rv_12m' 'open_rv_24m' 'max_bal_bc' 'all_util' 'total_rev_hi_lim'\n",
      " 'inq_fi' 'total_cu_tl' 'inq_last_12m' 'acc_open_past_24mths'\n",
      " 'avg_cur_bal' 'bc_open_to_buy' 'bc_util' 'chargeoff_within_12_mths'\n",
      " 'delinq_amnt' 'mo_sin_old_il_acct' 'mo_sin_old_rev_tl_op'\n",
      " 'mo_sin_rcnt_rev_tl_op' 'mo_sin_rcnt_tl' 'mort_acc'\n",
      " 'mths_since_recent_bc' 'mths_since_recent_bc_dlq' 'mths_since_recent_inq'\n",
      " 'mths_since_recent_revol_delinq' 'num_accts_ever_120_pd' 'num_actv_bc_tl'\n",
      " 'num_actv_rev_tl' 'num_bc_sats' 'num_bc_tl' 'num_il_tl' 'num_op_rev_tl'\n",
      " 'num_rev_accts' 'num_rev_tl_bal_gt_0' 'num_sats' 'num_tl_120dpd_2m'\n",
      " 'num_tl_30dpd' 'num_tl_90g_dpd_24m' 'num_tl_op_past_12m' 'pct_tl_nvr_dlq'\n",
      " 'percent_bc_gt_75' 'pub_rec_bankruptcies' 'tax_liens' 'tot_hi_cred_lim'\n",
      " 'total_bal_ex_mort' 'total_bc_limit' 'total_il_high_credit_limit']\n"
     ]
    },
    {
     "name": "stderr",
     "output_type": "stream",
     "text": [
      "/Users/ssounda/opt/anaconda3/lib/python3.9/site-packages/IPython/core/interactiveshell.py:3444: DtypeWarning: Columns (47) have mixed types.Specify dtype option on import or set low_memory=False.\n",
      "  exec(code_obj, self.user_global_ns, self.user_ns)\n"
     ]
    }
   ],
   "source": [
    "#Setup prerequisite - This code assumes the 'loan.csv file is present in the local location as this python file'\n",
    "import pandas as pd\n",
    "import numpy as np\n",
    "import seaborn as sns\n",
    "import matplotlib.pyplot as plt\n",
    "import re\n",
    "\n",
    "#Read the data and try to get a basic understanding of the dataset\n",
    "loan = pd.read_csv('loan.csv')\n",
    "\n",
    "print(\"Number of Rows and Columns in this dataset :\",loan.shape)\n",
    "print(\"The Columns in this data set are :\",loan.columns.values)\n"
   ]
  },
  {
   "cell_type": "code",
   "execution_count": 107,
   "id": "75d85ad7",
   "metadata": {
    "scrolled": true
   },
   "outputs": [
    {
     "data": {
      "text/html": [
       "<div>\n",
       "<style scoped>\n",
       "    .dataframe tbody tr th:only-of-type {\n",
       "        vertical-align: middle;\n",
       "    }\n",
       "\n",
       "    .dataframe tbody tr th {\n",
       "        vertical-align: top;\n",
       "    }\n",
       "\n",
       "    .dataframe thead th {\n",
       "        text-align: right;\n",
       "    }\n",
       "</style>\n",
       "<table border=\"1\" class=\"dataframe\">\n",
       "  <thead>\n",
       "    <tr style=\"text-align: right;\">\n",
       "      <th></th>\n",
       "      <th>id</th>\n",
       "      <th>member_id</th>\n",
       "      <th>loan_amnt</th>\n",
       "      <th>funded_amnt</th>\n",
       "      <th>funded_amnt_inv</th>\n",
       "      <th>term</th>\n",
       "      <th>int_rate</th>\n",
       "      <th>installment</th>\n",
       "      <th>grade</th>\n",
       "      <th>sub_grade</th>\n",
       "      <th>...</th>\n",
       "      <th>num_tl_90g_dpd_24m</th>\n",
       "      <th>num_tl_op_past_12m</th>\n",
       "      <th>pct_tl_nvr_dlq</th>\n",
       "      <th>percent_bc_gt_75</th>\n",
       "      <th>pub_rec_bankruptcies</th>\n",
       "      <th>tax_liens</th>\n",
       "      <th>tot_hi_cred_lim</th>\n",
       "      <th>total_bal_ex_mort</th>\n",
       "      <th>total_bc_limit</th>\n",
       "      <th>total_il_high_credit_limit</th>\n",
       "    </tr>\n",
       "  </thead>\n",
       "  <tbody>\n",
       "    <tr>\n",
       "      <th>0</th>\n",
       "      <td>1077501</td>\n",
       "      <td>1296599</td>\n",
       "      <td>5000</td>\n",
       "      <td>5000</td>\n",
       "      <td>4975.0</td>\n",
       "      <td>36 months</td>\n",
       "      <td>10.65%</td>\n",
       "      <td>162.87</td>\n",
       "      <td>B</td>\n",
       "      <td>B2</td>\n",
       "      <td>...</td>\n",
       "      <td>NaN</td>\n",
       "      <td>NaN</td>\n",
       "      <td>NaN</td>\n",
       "      <td>NaN</td>\n",
       "      <td>0.0</td>\n",
       "      <td>0.0</td>\n",
       "      <td>NaN</td>\n",
       "      <td>NaN</td>\n",
       "      <td>NaN</td>\n",
       "      <td>NaN</td>\n",
       "    </tr>\n",
       "    <tr>\n",
       "      <th>1</th>\n",
       "      <td>1077430</td>\n",
       "      <td>1314167</td>\n",
       "      <td>2500</td>\n",
       "      <td>2500</td>\n",
       "      <td>2500.0</td>\n",
       "      <td>60 months</td>\n",
       "      <td>15.27%</td>\n",
       "      <td>59.83</td>\n",
       "      <td>C</td>\n",
       "      <td>C4</td>\n",
       "      <td>...</td>\n",
       "      <td>NaN</td>\n",
       "      <td>NaN</td>\n",
       "      <td>NaN</td>\n",
       "      <td>NaN</td>\n",
       "      <td>0.0</td>\n",
       "      <td>0.0</td>\n",
       "      <td>NaN</td>\n",
       "      <td>NaN</td>\n",
       "      <td>NaN</td>\n",
       "      <td>NaN</td>\n",
       "    </tr>\n",
       "    <tr>\n",
       "      <th>2</th>\n",
       "      <td>1077175</td>\n",
       "      <td>1313524</td>\n",
       "      <td>2400</td>\n",
       "      <td>2400</td>\n",
       "      <td>2400.0</td>\n",
       "      <td>36 months</td>\n",
       "      <td>15.96%</td>\n",
       "      <td>84.33</td>\n",
       "      <td>C</td>\n",
       "      <td>C5</td>\n",
       "      <td>...</td>\n",
       "      <td>NaN</td>\n",
       "      <td>NaN</td>\n",
       "      <td>NaN</td>\n",
       "      <td>NaN</td>\n",
       "      <td>0.0</td>\n",
       "      <td>0.0</td>\n",
       "      <td>NaN</td>\n",
       "      <td>NaN</td>\n",
       "      <td>NaN</td>\n",
       "      <td>NaN</td>\n",
       "    </tr>\n",
       "    <tr>\n",
       "      <th>3</th>\n",
       "      <td>1076863</td>\n",
       "      <td>1277178</td>\n",
       "      <td>10000</td>\n",
       "      <td>10000</td>\n",
       "      <td>10000.0</td>\n",
       "      <td>36 months</td>\n",
       "      <td>13.49%</td>\n",
       "      <td>339.31</td>\n",
       "      <td>C</td>\n",
       "      <td>C1</td>\n",
       "      <td>...</td>\n",
       "      <td>NaN</td>\n",
       "      <td>NaN</td>\n",
       "      <td>NaN</td>\n",
       "      <td>NaN</td>\n",
       "      <td>0.0</td>\n",
       "      <td>0.0</td>\n",
       "      <td>NaN</td>\n",
       "      <td>NaN</td>\n",
       "      <td>NaN</td>\n",
       "      <td>NaN</td>\n",
       "    </tr>\n",
       "    <tr>\n",
       "      <th>4</th>\n",
       "      <td>1075358</td>\n",
       "      <td>1311748</td>\n",
       "      <td>3000</td>\n",
       "      <td>3000</td>\n",
       "      <td>3000.0</td>\n",
       "      <td>60 months</td>\n",
       "      <td>12.69%</td>\n",
       "      <td>67.79</td>\n",
       "      <td>B</td>\n",
       "      <td>B5</td>\n",
       "      <td>...</td>\n",
       "      <td>NaN</td>\n",
       "      <td>NaN</td>\n",
       "      <td>NaN</td>\n",
       "      <td>NaN</td>\n",
       "      <td>0.0</td>\n",
       "      <td>0.0</td>\n",
       "      <td>NaN</td>\n",
       "      <td>NaN</td>\n",
       "      <td>NaN</td>\n",
       "      <td>NaN</td>\n",
       "    </tr>\n",
       "  </tbody>\n",
       "</table>\n",
       "<p>5 rows × 111 columns</p>\n",
       "</div>"
      ],
      "text/plain": [
       "        id  member_id  loan_amnt  funded_amnt  funded_amnt_inv        term  \\\n",
       "0  1077501    1296599       5000         5000           4975.0   36 months   \n",
       "1  1077430    1314167       2500         2500           2500.0   60 months   \n",
       "2  1077175    1313524       2400         2400           2400.0   36 months   \n",
       "3  1076863    1277178      10000        10000          10000.0   36 months   \n",
       "4  1075358    1311748       3000         3000           3000.0   60 months   \n",
       "\n",
       "  int_rate  installment grade sub_grade  ... num_tl_90g_dpd_24m  \\\n",
       "0   10.65%       162.87     B        B2  ...                NaN   \n",
       "1   15.27%        59.83     C        C4  ...                NaN   \n",
       "2   15.96%        84.33     C        C5  ...                NaN   \n",
       "3   13.49%       339.31     C        C1  ...                NaN   \n",
       "4   12.69%        67.79     B        B5  ...                NaN   \n",
       "\n",
       "  num_tl_op_past_12m pct_tl_nvr_dlq  percent_bc_gt_75 pub_rec_bankruptcies  \\\n",
       "0                NaN            NaN               NaN                  0.0   \n",
       "1                NaN            NaN               NaN                  0.0   \n",
       "2                NaN            NaN               NaN                  0.0   \n",
       "3                NaN            NaN               NaN                  0.0   \n",
       "4                NaN            NaN               NaN                  0.0   \n",
       "\n",
       "  tax_liens tot_hi_cred_lim total_bal_ex_mort total_bc_limit  \\\n",
       "0       0.0             NaN               NaN            NaN   \n",
       "1       0.0             NaN               NaN            NaN   \n",
       "2       0.0             NaN               NaN            NaN   \n",
       "3       0.0             NaN               NaN            NaN   \n",
       "4       0.0             NaN               NaN            NaN   \n",
       "\n",
       "  total_il_high_credit_limit  \n",
       "0                        NaN  \n",
       "1                        NaN  \n",
       "2                        NaN  \n",
       "3                        NaN  \n",
       "4                        NaN  \n",
       "\n",
       "[5 rows x 111 columns]"
      ]
     },
     "execution_count": 107,
     "metadata": {},
     "output_type": "execute_result"
    }
   ],
   "source": [
    "loan.head()"
   ]
  },
  {
   "cell_type": "code",
   "execution_count": 108,
   "id": "c024d8a0",
   "metadata": {},
   "outputs": [
    {
     "name": "stdout",
     "output_type": "stream",
     "text": [
      "Fully Paid     32950\n",
      "Charged Off     5627\n",
      "Current         1140\n",
      "Name: loan_status, dtype: int64\n"
     ]
    },
    {
     "data": {
      "image/png": "[encoded data removed]",
      "text/plain": [
       "<Figure size 432x288 with 1 Axes>"
      ]
     },
     "metadata": {
      "needs_background": "light"
     },
     "output_type": "display_data"
    }
   ],
   "source": [
    "print(loan['loan_status'].value_counts())\n",
    "\n",
    "sns.barplot(x=\"loan_status\", y=\"funded_amnt_inv\", data=loan)\n",
    "\n",
    "plt.show()\n"
   ]
  },
  {
   "cell_type": "markdown",
   "id": "c1e64623",
   "metadata": {},
   "source": [
    "## Data Cleanup"
   ]
  },
  {
   "cell_type": "markdown",
   "id": "ef414408",
   "metadata": {},
   "source": [
    "### Get a summary of the columns that have null values"
   ]
  },
  {
   "cell_type": "code",
   "execution_count": 109,
   "id": "d6399d9e",
   "metadata": {},
   "outputs": [
    {
     "data": {
      "text/plain": [
       "id                                0\n",
       "member_id                         0\n",
       "loan_amnt                         0\n",
       "funded_amnt                       0\n",
       "funded_amnt_inv                   0\n",
       "                              ...  \n",
       "tax_liens                        39\n",
       "tot_hi_cred_lim               39717\n",
       "total_bal_ex_mort             39717\n",
       "total_bc_limit                39717\n",
       "total_il_high_credit_limit    39717\n",
       "Length: 111, dtype: int64"
      ]
     },
     "execution_count": 109,
     "metadata": {},
     "output_type": "execute_result"
    }
   ],
   "source": [
    "loan.isnull().sum()"
   ]
  },
  {
   "cell_type": "markdown",
   "id": "05569d88",
   "metadata": {},
   "source": [
    "### Drop columns that have 95% or more as null values"
   ]
  },
  {
   "cell_type": "code",
   "execution_count": 110,
   "id": "fcad12b7",
   "metadata": {},
   "outputs": [],
   "source": [
    "loan = loan.dropna(axis='columns',thresh=0.95*len(loan))"
   ]
  },
  {
   "cell_type": "code",
   "execution_count": 111,
   "id": "b943fdf2",
   "metadata": {},
   "outputs": [
    {
     "name": "stdout",
     "output_type": "stream",
     "text": [
      "Number of Rows and Columns in this dataset : (39717, 52)\n",
      "The Columns in this data set are : ['id' 'member_id' 'loan_amnt' 'funded_amnt' 'funded_amnt_inv' 'term'\n",
      " 'int_rate' 'installment' 'grade' 'sub_grade' 'emp_length'\n",
      " 'home_ownership' 'annual_inc' 'verification_status' 'issue_d'\n",
      " 'loan_status' 'pymnt_plan' 'url' 'purpose' 'title' 'zip_code'\n",
      " 'addr_state' 'dti' 'delinq_2yrs' 'earliest_cr_line' 'inq_last_6mths'\n",
      " 'open_acc' 'pub_rec' 'revol_bal' 'revol_util' 'total_acc'\n",
      " 'initial_list_status' 'out_prncp' 'out_prncp_inv' 'total_pymnt'\n",
      " 'total_pymnt_inv' 'total_rec_prncp' 'total_rec_int' 'total_rec_late_fee'\n",
      " 'recoveries' 'collection_recovery_fee' 'last_pymnt_d' 'last_pymnt_amnt'\n",
      " 'last_credit_pull_d' 'collections_12_mths_ex_med' 'policy_code'\n",
      " 'application_type' 'acc_now_delinq' 'chargeoff_within_12_mths'\n",
      " 'delinq_amnt' 'pub_rec_bankruptcies' 'tax_liens']\n"
     ]
    },
    {
     "data": {
      "text/html": [
       "<div>\n",
       "<style scoped>\n",
       "    .dataframe tbody tr th:only-of-type {\n",
       "        vertical-align: middle;\n",
       "    }\n",
       "\n",
       "    .dataframe tbody tr th {\n",
       "        vertical-align: top;\n",
       "    }\n",
       "\n",
       "    .dataframe thead th {\n",
       "        text-align: right;\n",
       "    }\n",
       "</style>\n",
       "<table border=\"1\" class=\"dataframe\">\n",
       "  <thead>\n",
       "    <tr style=\"text-align: right;\">\n",
       "      <th></th>\n",
       "      <th>id</th>\n",
       "      <th>member_id</th>\n",
       "      <th>loan_amnt</th>\n",
       "      <th>funded_amnt</th>\n",
       "      <th>funded_amnt_inv</th>\n",
       "      <th>term</th>\n",
       "      <th>int_rate</th>\n",
       "      <th>installment</th>\n",
       "      <th>grade</th>\n",
       "      <th>sub_grade</th>\n",
       "      <th>...</th>\n",
       "      <th>last_pymnt_amnt</th>\n",
       "      <th>last_credit_pull_d</th>\n",
       "      <th>collections_12_mths_ex_med</th>\n",
       "      <th>policy_code</th>\n",
       "      <th>application_type</th>\n",
       "      <th>acc_now_delinq</th>\n",
       "      <th>chargeoff_within_12_mths</th>\n",
       "      <th>delinq_amnt</th>\n",
       "      <th>pub_rec_bankruptcies</th>\n",
       "      <th>tax_liens</th>\n",
       "    </tr>\n",
       "  </thead>\n",
       "  <tbody>\n",
       "    <tr>\n",
       "      <th>0</th>\n",
       "      <td>1077501</td>\n",
       "      <td>1296599</td>\n",
       "      <td>5000</td>\n",
       "      <td>5000</td>\n",
       "      <td>4975.0</td>\n",
       "      <td>36 months</td>\n",
       "      <td>10.65%</td>\n",
       "      <td>162.87</td>\n",
       "      <td>B</td>\n",
       "      <td>B2</td>\n",
       "      <td>...</td>\n",
       "      <td>171.62</td>\n",
       "      <td>May-16</td>\n",
       "      <td>0.0</td>\n",
       "      <td>1</td>\n",
       "      <td>INDIVIDUAL</td>\n",
       "      <td>0</td>\n",
       "      <td>0.0</td>\n",
       "      <td>0</td>\n",
       "      <td>0.0</td>\n",
       "      <td>0.0</td>\n",
       "    </tr>\n",
       "    <tr>\n",
       "      <th>1</th>\n",
       "      <td>1077430</td>\n",
       "      <td>1314167</td>\n",
       "      <td>2500</td>\n",
       "      <td>2500</td>\n",
       "      <td>2500.0</td>\n",
       "      <td>60 months</td>\n",
       "      <td>15.27%</td>\n",
       "      <td>59.83</td>\n",
       "      <td>C</td>\n",
       "      <td>C4</td>\n",
       "      <td>...</td>\n",
       "      <td>119.66</td>\n",
       "      <td>Sep-13</td>\n",
       "      <td>0.0</td>\n",
       "      <td>1</td>\n",
       "      <td>INDIVIDUAL</td>\n",
       "      <td>0</td>\n",
       "      <td>0.0</td>\n",
       "      <td>0</td>\n",
       "      <td>0.0</td>\n",
       "      <td>0.0</td>\n",
       "    </tr>\n",
       "    <tr>\n",
       "      <th>2</th>\n",
       "      <td>1077175</td>\n",
       "      <td>1313524</td>\n",
       "      <td>2400</td>\n",
       "      <td>2400</td>\n",
       "      <td>2400.0</td>\n",
       "      <td>36 months</td>\n",
       "      <td>15.96%</td>\n",
       "      <td>84.33</td>\n",
       "      <td>C</td>\n",
       "      <td>C5</td>\n",
       "      <td>...</td>\n",
       "      <td>649.91</td>\n",
       "      <td>May-16</td>\n",
       "      <td>0.0</td>\n",
       "      <td>1</td>\n",
       "      <td>INDIVIDUAL</td>\n",
       "      <td>0</td>\n",
       "      <td>0.0</td>\n",
       "      <td>0</td>\n",
       "      <td>0.0</td>\n",
       "      <td>0.0</td>\n",
       "    </tr>\n",
       "    <tr>\n",
       "      <th>3</th>\n",
       "      <td>1076863</td>\n",
       "      <td>1277178</td>\n",
       "      <td>10000</td>\n",
       "      <td>10000</td>\n",
       "      <td>10000.0</td>\n",
       "      <td>36 months</td>\n",
       "      <td>13.49%</td>\n",
       "      <td>339.31</td>\n",
       "      <td>C</td>\n",
       "      <td>C1</td>\n",
       "      <td>...</td>\n",
       "      <td>357.48</td>\n",
       "      <td>Apr-16</td>\n",
       "      <td>0.0</td>\n",
       "      <td>1</td>\n",
       "      <td>INDIVIDUAL</td>\n",
       "      <td>0</td>\n",
       "      <td>0.0</td>\n",
       "      <td>0</td>\n",
       "      <td>0.0</td>\n",
       "      <td>0.0</td>\n",
       "    </tr>\n",
       "    <tr>\n",
       "      <th>4</th>\n",
       "      <td>1075358</td>\n",
       "      <td>1311748</td>\n",
       "      <td>3000</td>\n",
       "      <td>3000</td>\n",
       "      <td>3000.0</td>\n",
       "      <td>60 months</td>\n",
       "      <td>12.69%</td>\n",
       "      <td>67.79</td>\n",
       "      <td>B</td>\n",
       "      <td>B5</td>\n",
       "      <td>...</td>\n",
       "      <td>67.79</td>\n",
       "      <td>May-16</td>\n",
       "      <td>0.0</td>\n",
       "      <td>1</td>\n",
       "      <td>INDIVIDUAL</td>\n",
       "      <td>0</td>\n",
       "      <td>0.0</td>\n",
       "      <td>0</td>\n",
       "      <td>0.0</td>\n",
       "      <td>0.0</td>\n",
       "    </tr>\n",
       "  </tbody>\n",
       "</table>\n",
       "<p>5 rows × 52 columns</p>\n",
       "</div>"
      ],
      "text/plain": [
       "        id  member_id  loan_amnt  funded_amnt  funded_amnt_inv        term  \\\n",
       "0  1077501    1296599       5000         5000           4975.0   36 months   \n",
       "1  1077430    1314167       2500         2500           2500.0   60 months   \n",
       "2  1077175    1313524       2400         2400           2400.0   36 months   \n",
       "3  1076863    1277178      10000        10000          10000.0   36 months   \n",
       "4  1075358    1311748       3000         3000           3000.0   60 months   \n",
       "\n",
       "  int_rate  installment grade sub_grade  ... last_pymnt_amnt  \\\n",
       "0   10.65%       162.87     B        B2  ...          171.62   \n",
       "1   15.27%        59.83     C        C4  ...          119.66   \n",
       "2   15.96%        84.33     C        C5  ...          649.91   \n",
       "3   13.49%       339.31     C        C1  ...          357.48   \n",
       "4   12.69%        67.79     B        B5  ...           67.79   \n",
       "\n",
       "  last_credit_pull_d  collections_12_mths_ex_med policy_code application_type  \\\n",
       "0             May-16                         0.0           1       INDIVIDUAL   \n",
       "1             Sep-13                         0.0           1       INDIVIDUAL   \n",
       "2             May-16                         0.0           1       INDIVIDUAL   \n",
       "3             Apr-16                         0.0           1       INDIVIDUAL   \n",
       "4             May-16                         0.0           1       INDIVIDUAL   \n",
       "\n",
       "  acc_now_delinq chargeoff_within_12_mths delinq_amnt pub_rec_bankruptcies  \\\n",
       "0              0                      0.0           0                  0.0   \n",
       "1              0                      0.0           0                  0.0   \n",
       "2              0                      0.0           0                  0.0   \n",
       "3              0                      0.0           0                  0.0   \n",
       "4              0                      0.0           0                  0.0   \n",
       "\n",
       "  tax_liens  \n",
       "0       0.0  \n",
       "1       0.0  \n",
       "2       0.0  \n",
       "3       0.0  \n",
       "4       0.0  \n",
       "\n",
       "[5 rows x 52 columns]"
      ]
     },
     "execution_count": 111,
     "metadata": {},
     "output_type": "execute_result"
    }
   ],
   "source": [
    "print(\"Number of Rows and Columns in this dataset :\",loan.shape)\n",
    "print(\"The Columns in this data set are :\",loan.columns.values)\n",
    "loan.head()"
   ]
  },
  {
   "cell_type": "markdown",
   "id": "12b840cf",
   "metadata": {},
   "source": [
    "### Analyse and Drop columns that predominantly have only single values. They are not going to be much helpful for our analysis"
   ]
  },
  {
   "cell_type": "code",
   "execution_count": 112,
   "id": "791af394",
   "metadata": {},
   "outputs": [
    {
     "name": "stdout",
     "output_type": "stream",
     "text": [
      "n    39717\n",
      "Name: pymnt_plan, dtype: int64\n",
      "f    39717\n",
      "Name: initial_list_status, dtype: int64\n",
      "0.0    39661\n",
      "Name: collections_12_mths_ex_med, dtype: int64\n",
      "0    39717\n",
      "Name: acc_now_delinq, dtype: int64\n",
      "0.0    39661\n",
      "Name: chargeoff_within_12_mths, dtype: int64\n",
      "0    39717\n",
      "Name: delinq_amnt, dtype: int64\n",
      "0.0    39678\n",
      "Name: tax_liens, dtype: int64\n",
      "INDIVIDUAL    39717\n",
      "Name: application_type, dtype: int64\n",
      "0.0    37339\n",
      "1.0     1674\n",
      "2.0        7\n",
      "Name: pub_rec_bankruptcies, dtype: int64\n"
     ]
    }
   ],
   "source": [
    "print(loan['pymnt_plan'].value_counts())\n",
    "print(loan['initial_list_status'].value_counts())\n",
    "print(loan['collections_12_mths_ex_med'].value_counts())\n",
    "print(loan['acc_now_delinq'].value_counts())\n",
    "print(loan['chargeoff_within_12_mths'].value_counts())\n",
    "print(loan['delinq_amnt'].value_counts())\n",
    "print(loan['tax_liens'].value_counts())\n",
    "print(loan['application_type'].value_counts())\n",
    "print(loan['pub_rec_bankruptcies'].value_counts())\n",
    "\n"
   ]
  },
  {
   "cell_type": "code",
   "execution_count": 113,
   "id": "ec21818f",
   "metadata": {},
   "outputs": [],
   "source": [
    "# remove other non-required columns\n",
    "# id - not required\n",
    "# member_id - not required\n",
    "# funded_amnt -  funded_amnt_inv reflects the actual funded to person\n",
    "# url - not useful\n",
    "# zip_code - zip_code is incomplete and has only the same information as addr_state\n",
    "# The following features have only limited values or they are relevant post approval and not useful for current analysis\n",
    "# delinq_2yrs \n",
    "# revol_bal \n",
    "# out_prncp\n",
    "# out_prncp_inv \n",
    "# total_pymnt\n",
    "# total_pymnt_inv \n",
    "# total_rec_prncp \n",
    "# total_rec_int \n",
    "# total_rec_late_fee\n",
    "# recoveries \n",
    "# collection_recovery_fee \n",
    "# last_pymnt_d\n",
    "# last_credit_pull_d \n",
    "# last_pymnt_amnt \n",
    "# collections_12_mths_ex_med \n",
    "# policy_code \n",
    "# chargeoff_within_12_mths \n",
    "# pub_rec_bankruptcies \n",
    "#title\n",
    "#inq_last_6mths\n",
    "#pub_rec\n",
    "\n",
    "\n",
    "colsToDrop = ['id', 'member_id','funded_amnt','url','zip_code','pymnt_plan', 'delinq_2yrs',\n",
    "              'initial_list_status','collections_12_mths_ex_med','acc_now_delinq',\n",
    "              'revol_bal','out_prncp','out_prncp_inv','total_pymnt','total_pymnt_inv',\n",
    "              'total_rec_prncp','total_rec_int','total_rec_late_fee','recoveries','collection_recovery_fee',\n",
    "              'last_pymnt_d','last_credit_pull_d','last_pymnt_amnt','collections_12_mths_ex_med',\n",
    "              'policy_code','chargeoff_within_12_mths','pub_rec_bankruptcies',\n",
    "             'chargeoff_within_12_mths','delinq_amnt','tax_liens','application_type',\n",
    "             'title','inq_last_6mths','pub_rec']\n",
    "loan.drop(colsToDrop,axis=1,inplace=True)\n"
   ]
  },
  {
   "cell_type": "code",
   "execution_count": 114,
   "id": "4cc34c6d",
   "metadata": {},
   "outputs": [
    {
     "name": "stdout",
     "output_type": "stream",
     "text": [
      "Number of Rows and Columns in this dataset : (39717, 20)\n",
      "The Columns in this data set are : ['loan_amnt' 'funded_amnt_inv' 'term' 'int_rate' 'installment' 'grade'\n",
      " 'sub_grade' 'emp_length' 'home_ownership' 'annual_inc'\n",
      " 'verification_status' 'issue_d' 'loan_status' 'purpose' 'addr_state'\n",
      " 'dti' 'earliest_cr_line' 'open_acc' 'revol_util' 'total_acc']\n"
     ]
    },
    {
     "data": {
      "text/html": [
       "<div>\n",
       "<style scoped>\n",
       "    .dataframe tbody tr th:only-of-type {\n",
       "        vertical-align: middle;\n",
       "    }\n",
       "\n",
       "    .dataframe tbody tr th {\n",
       "        vertical-align: top;\n",
       "    }\n",
       "\n",
       "    .dataframe thead th {\n",
       "        text-align: right;\n",
       "    }\n",
       "</style>\n",
       "<table border=\"1\" class=\"dataframe\">\n",
       "  <thead>\n",
       "    <tr style=\"text-align: right;\">\n",
       "      <th></th>\n",
       "      <th>loan_amnt</th>\n",
       "      <th>funded_amnt_inv</th>\n",
       "      <th>term</th>\n",
       "      <th>int_rate</th>\n",
       "      <th>installment</th>\n",
       "      <th>grade</th>\n",
       "      <th>sub_grade</th>\n",
       "      <th>emp_length</th>\n",
       "      <th>home_ownership</th>\n",
       "      <th>annual_inc</th>\n",
       "      <th>verification_status</th>\n",
       "      <th>issue_d</th>\n",
       "      <th>loan_status</th>\n",
       "      <th>purpose</th>\n",
       "      <th>addr_state</th>\n",
       "      <th>dti</th>\n",
       "      <th>earliest_cr_line</th>\n",
       "      <th>open_acc</th>\n",
       "      <th>revol_util</th>\n",
       "      <th>total_acc</th>\n",
       "    </tr>\n",
       "  </thead>\n",
       "  <tbody>\n",
       "    <tr>\n",
       "      <th>0</th>\n",
       "      <td>5000</td>\n",
       "      <td>4975.0</td>\n",
       "      <td>36 months</td>\n",
       "      <td>10.65%</td>\n",
       "      <td>162.87</td>\n",
       "      <td>B</td>\n",
       "      <td>B2</td>\n",
       "      <td>10+ years</td>\n",
       "      <td>RENT</td>\n",
       "      <td>24000.0</td>\n",
       "      <td>Verified</td>\n",
       "      <td>Dec-11</td>\n",
       "      <td>Fully Paid</td>\n",
       "      <td>credit_card</td>\n",
       "      <td>AZ</td>\n",
       "      <td>27.65</td>\n",
       "      <td>Jan-85</td>\n",
       "      <td>3</td>\n",
       "      <td>83.70%</td>\n",
       "      <td>9</td>\n",
       "    </tr>\n",
       "    <tr>\n",
       "      <th>1</th>\n",
       "      <td>2500</td>\n",
       "      <td>2500.0</td>\n",
       "      <td>60 months</td>\n",
       "      <td>15.27%</td>\n",
       "      <td>59.83</td>\n",
       "      <td>C</td>\n",
       "      <td>C4</td>\n",
       "      <td>&lt; 1 year</td>\n",
       "      <td>RENT</td>\n",
       "      <td>30000.0</td>\n",
       "      <td>Source Verified</td>\n",
       "      <td>Dec-11</td>\n",
       "      <td>Charged Off</td>\n",
       "      <td>car</td>\n",
       "      <td>GA</td>\n",
       "      <td>1.00</td>\n",
       "      <td>Apr-99</td>\n",
       "      <td>3</td>\n",
       "      <td>9.40%</td>\n",
       "      <td>4</td>\n",
       "    </tr>\n",
       "    <tr>\n",
       "      <th>2</th>\n",
       "      <td>2400</td>\n",
       "      <td>2400.0</td>\n",
       "      <td>36 months</td>\n",
       "      <td>15.96%</td>\n",
       "      <td>84.33</td>\n",
       "      <td>C</td>\n",
       "      <td>C5</td>\n",
       "      <td>10+ years</td>\n",
       "      <td>RENT</td>\n",
       "      <td>12252.0</td>\n",
       "      <td>Not Verified</td>\n",
       "      <td>Dec-11</td>\n",
       "      <td>Fully Paid</td>\n",
       "      <td>small_business</td>\n",
       "      <td>IL</td>\n",
       "      <td>8.72</td>\n",
       "      <td>Nov-01</td>\n",
       "      <td>2</td>\n",
       "      <td>98.50%</td>\n",
       "      <td>10</td>\n",
       "    </tr>\n",
       "    <tr>\n",
       "      <th>3</th>\n",
       "      <td>10000</td>\n",
       "      <td>10000.0</td>\n",
       "      <td>36 months</td>\n",
       "      <td>13.49%</td>\n",
       "      <td>339.31</td>\n",
       "      <td>C</td>\n",
       "      <td>C1</td>\n",
       "      <td>10+ years</td>\n",
       "      <td>RENT</td>\n",
       "      <td>49200.0</td>\n",
       "      <td>Source Verified</td>\n",
       "      <td>Dec-11</td>\n",
       "      <td>Fully Paid</td>\n",
       "      <td>other</td>\n",
       "      <td>CA</td>\n",
       "      <td>20.00</td>\n",
       "      <td>Feb-96</td>\n",
       "      <td>10</td>\n",
       "      <td>21%</td>\n",
       "      <td>37</td>\n",
       "    </tr>\n",
       "    <tr>\n",
       "      <th>4</th>\n",
       "      <td>3000</td>\n",
       "      <td>3000.0</td>\n",
       "      <td>60 months</td>\n",
       "      <td>12.69%</td>\n",
       "      <td>67.79</td>\n",
       "      <td>B</td>\n",
       "      <td>B5</td>\n",
       "      <td>1 year</td>\n",
       "      <td>RENT</td>\n",
       "      <td>80000.0</td>\n",
       "      <td>Source Verified</td>\n",
       "      <td>Dec-11</td>\n",
       "      <td>Current</td>\n",
       "      <td>other</td>\n",
       "      <td>OR</td>\n",
       "      <td>17.94</td>\n",
       "      <td>Jan-96</td>\n",
       "      <td>15</td>\n",
       "      <td>53.90%</td>\n",
       "      <td>38</td>\n",
       "    </tr>\n",
       "  </tbody>\n",
       "</table>\n",
       "</div>"
      ],
      "text/plain": [
       "   loan_amnt  funded_amnt_inv        term int_rate  installment grade  \\\n",
       "0       5000           4975.0   36 months   10.65%       162.87     B   \n",
       "1       2500           2500.0   60 months   15.27%        59.83     C   \n",
       "2       2400           2400.0   36 months   15.96%        84.33     C   \n",
       "3      10000          10000.0   36 months   13.49%       339.31     C   \n",
       "4       3000           3000.0   60 months   12.69%        67.79     B   \n",
       "\n",
       "  sub_grade emp_length home_ownership  annual_inc verification_status issue_d  \\\n",
       "0        B2  10+ years           RENT     24000.0            Verified  Dec-11   \n",
       "1        C4   < 1 year           RENT     30000.0     Source Verified  Dec-11   \n",
       "2        C5  10+ years           RENT     12252.0        Not Verified  Dec-11   \n",
       "3        C1  10+ years           RENT     49200.0     Source Verified  Dec-11   \n",
       "4        B5     1 year           RENT     80000.0     Source Verified  Dec-11   \n",
       "\n",
       "   loan_status         purpose addr_state    dti earliest_cr_line  open_acc  \\\n",
       "0   Fully Paid     credit_card         AZ  27.65           Jan-85         3   \n",
       "1  Charged Off             car         GA   1.00           Apr-99         3   \n",
       "2   Fully Paid  small_business         IL   8.72           Nov-01         2   \n",
       "3   Fully Paid           other         CA  20.00           Feb-96        10   \n",
       "4      Current           other         OR  17.94           Jan-96        15   \n",
       "\n",
       "  revol_util  total_acc  \n",
       "0     83.70%          9  \n",
       "1      9.40%          4  \n",
       "2     98.50%         10  \n",
       "3        21%         37  \n",
       "4     53.90%         38  "
      ]
     },
     "execution_count": 114,
     "metadata": {},
     "output_type": "execute_result"
    }
   ],
   "source": [
    "print(\"Number of Rows and Columns in this dataset :\",loan.shape)\n",
    "print(\"The Columns in this data set are :\",loan.columns.values)\n",
    "loan.head()"
   ]
  },
  {
   "cell_type": "markdown",
   "id": "96a6d450",
   "metadata": {},
   "source": [
    "### Extract and Convert term, int_rate,revolv_util to a numeric value"
   ]
  },
  {
   "cell_type": "code",
   "execution_count": 115,
   "id": "cb20dbbd",
   "metadata": {},
   "outputs": [],
   "source": [
    "loan['term'] = loan['term'].apply(lambda k: pd.to_numeric(k.removesuffix('months')))"
   ]
  },
  {
   "cell_type": "code",
   "execution_count": 116,
   "id": "d9aed5c7",
   "metadata": {},
   "outputs": [],
   "source": [
    "loan['int_rate'] = loan['int_rate'].apply(lambda k: pd.to_numeric(k.removesuffix('%')))"
   ]
  },
  {
   "cell_type": "code",
   "execution_count": 117,
   "id": "6dd2e8ac",
   "metadata": {},
   "outputs": [],
   "source": [
    "loan.dropna(axis=0, subset=[\"revol_util\"], inplace=True)\n",
    "loan['revol_util'] = loan['revol_util'].apply(lambda k: pd.to_numeric(k.removesuffix('%')))"
   ]
  },
  {
   "cell_type": "markdown",
   "id": "25fdcae3",
   "metadata": {},
   "source": [
    "### Split and convert Date fields to Month and Year "
   ]
  },
  {
   "cell_type": "code",
   "execution_count": 118,
   "id": "10f86244",
   "metadata": {},
   "outputs": [],
   "source": [
    "loan['issue_year'] = pd.to_datetime(loan['issue_d'],format=\"%b-%y\").dt.year\n",
    "loan['issue_month'] = pd.to_datetime(loan['issue_d'],format=\"%b-%y\").dt.month\n",
    "loan['earliest_cr_line_year'] = pd.to_datetime(loan['earliest_cr_line'],format=\"%b-%y\").dt.year\n",
    "loan['earliest_cr_line_month'] = pd.to_datetime(loan['earliest_cr_line'],format=\"%b-%y\").dt.month"
   ]
  },
  {
   "cell_type": "markdown",
   "id": "391820eb",
   "metadata": {},
   "source": [
    "### Convert emp_length to a numeric value"
   ]
  },
  {
   "cell_type": "code",
   "execution_count": 119,
   "id": "5cf55f8e",
   "metadata": {},
   "outputs": [],
   "source": [
    "\n",
    "loan['emp_length'] = loan['emp_length'].str.extract('(\\d+)')\n",
    "loan['emp_length'] = pd.to_numeric(loan['emp_length'])"
   ]
  },
  {
   "cell_type": "markdown",
   "id": "0f14af0d",
   "metadata": {},
   "source": [
    "### Analyse and provide outlier treatment to the columns annual_inc, total_acc"
   ]
  },
  {
   "cell_type": "code",
   "execution_count": 120,
   "id": "445bc3c3",
   "metadata": {},
   "outputs": [
    {
     "data": {
      "text/plain": [
       "count      39667.000000\n",
       "mean       68999.523758\n",
       "std        63789.465449\n",
       "min         4000.000000\n",
       "25%        40516.320000\n",
       "50%        59000.000000\n",
       "75%        82400.000000\n",
       "max      6000000.000000\n",
       "Name: annual_inc, dtype: object"
      ]
     },
     "execution_count": 120,
     "metadata": {},
     "output_type": "execute_result"
    }
   ],
   "source": [
    "loan['annual_inc'].describe().apply(lambda x: format(x, 'f'))"
   ]
  },
  {
   "cell_type": "code",
   "execution_count": 121,
   "id": "408fb46a",
   "metadata": {},
   "outputs": [
    {
     "data": {
      "text/plain": [
       "count    39667.000000\n",
       "mean        22.103411\n",
       "std         11.398386\n",
       "min          2.000000\n",
       "25%         14.000000\n",
       "50%         20.000000\n",
       "75%         29.000000\n",
       "max         90.000000\n",
       "Name: total_acc, dtype: float64"
      ]
     },
     "execution_count": 121,
     "metadata": {},
     "output_type": "execute_result"
    }
   ],
   "source": [
    "loan['total_acc'].describe()"
   ]
  },
  {
   "cell_type": "code",
   "execution_count": 122,
   "id": "f59e45a0",
   "metadata": {},
   "outputs": [],
   "source": [
    "\n",
    "loan = loan[loan[\"annual_inc\"] < loan[\"annual_inc\"].quantile(0.99)]\n",
    "loan = loan[loan[\"total_acc\"] < loan[\"total_acc\"].quantile(0.99)]"
   ]
  },
  {
   "cell_type": "markdown",
   "id": "eccab884",
   "metadata": {},
   "source": [
    "### Filter and remove records with loan_status as 'Current'. Use only 'Fully Paid' and 'Charged Off' records"
   ]
  },
  {
   "cell_type": "code",
   "execution_count": 123,
   "id": "ac919716",
   "metadata": {},
   "outputs": [],
   "source": [
    "loan = loan[loan['loan_status'].isin(['Charged Off','Fully Paid'])]\n",
    "chargedOff = loan[loan['loan_status'] == 'Charged Off']\n",
    "fullyPaid = loan[loan['loan_status'] == 'Fully Paid']"
   ]
  },
  {
   "cell_type": "code",
   "execution_count": 126,
   "id": "4b8a4960",
   "metadata": {},
   "outputs": [],
   "source": [
    "# create loan_status_bin as Fully Paid to 0 and Charged Off to 1. This will help us aggregate charged off loan easily\n",
    "loan[\"loan_status_bin\"] = loan[\"loan_status\"].apply(lambda k: 0 if k == \"Fully Paid\" else 1)"
   ]
  },
  {
   "cell_type": "markdown",
   "id": "bf32421f",
   "metadata": {},
   "source": [
    "## Data Analysis"
   ]
  },
  {
   "cell_type": "markdown",
   "id": "2ccaf563",
   "metadata": {},
   "source": [
    "### Analyse the percentage of chargedoff loans by the grade"
   ]
  },
  {
   "cell_type": "code",
   "execution_count": 127,
   "id": "3ead97a8",
   "metadata": {},
   "outputs": [
    {
     "data": {
      "image/png": "[encoded data removed]",
      "text/plain": [
       "<Figure size 720x576 with 1 Axes>"
      ]
     },
     "metadata": {
      "needs_background": "light"
     },
     "output_type": "display_data"
    }
   ],
   "source": [
    "plt.figure(figsize=(10,8))\n",
    "pctChargedOff = []\n",
    "grades = sorted(loan['grade'].unique())\n",
    "for grade in grades:\n",
    "    gradeFilter  = loan[loan['grade']==grade]\n",
    "    totalCount = len(gradeFilter)\n",
    "    chargedoffCount = len(loan[(loan['grade']==grade) & (loan['loan_status_bin'] == 1)])\n",
    "    pctChargedOff.append((chargedoffCount/totalCount)*100)\n",
    "plt.bar(grades, pctChargedOff, color='indianred')\n",
    "plt.title(\"Analysis of Chargedoff loan by grade\",fontsize=20,\n",
    "          color=\"black\")\n",
    "plt.show()"
   ]
  },
  {
   "cell_type": "markdown",
   "id": "6fa15182",
   "metadata": {},
   "source": [
    "###  *Findings - The chargedoff loan % increases as there is a degradation in the grade of the loan* "
   ]
  },
  {
   "cell_type": "markdown",
   "id": "a876f094",
   "metadata": {},
   "source": [
    "### Analyse the chargedoff loans by the term"
   ]
  },
  {
   "cell_type": "code",
   "execution_count": 128,
   "id": "607cb89b",
   "metadata": {},
   "outputs": [
    {
     "data": {
      "image/png": "[encoded data removed]",
      "text/plain": [
       "<Figure size 1440x576 with 1 Axes>"
      ]
     },
     "metadata": {
      "needs_background": "light"
     },
     "output_type": "display_data"
    }
   ],
   "source": [
    "plt.figure(figsize=(20,8))\n",
    "plt.title(\"Analysis of Chargedoff loan by term\",fontsize=20,\n",
    "          color=\"black\")\n",
    "sns.barplot(x='term', y='loan_status_bin', data=loan)\n",
    "plt.show()"
   ]
  },
  {
   "cell_type": "markdown",
   "id": "25205683",
   "metadata": {},
   "source": [
    "### *Findings - The chargedoff loan increases as there is an ncrease in the term of the loan*\n"
   ]
  },
  {
   "cell_type": "markdown",
   "id": "2c222d0e",
   "metadata": {},
   "source": [
    "### Analyse the Chargedoff loan by int_rate"
   ]
  },
  {
   "cell_type": "code",
   "execution_count": 129,
   "id": "c2713208",
   "metadata": {},
   "outputs": [
    {
     "data": {
      "image/png": "[encoded data removed]",
      "text/plain": [
       "<Figure size 1440x576 with 1 Axes>"
      ]
     },
     "metadata": {
      "needs_background": "light"
     },
     "output_type": "display_data"
    }
   ],
   "source": [
    "\n",
    "\n",
    "# Bin the int_rate\n",
    "bins = [0, 5, 10, 15, 20, 100]\n",
    "bucket = ['0-5', '5-10', '10-15', '15-20', '20+']\n",
    "loan['int_rate_bin'] = pd.cut(loan['int_rate'], bins, labels=bucket)\n",
    "\n",
    "plt.figure(figsize=(20,8))\n",
    "plt.title(\"Analysis of Chargedoff loan by int_Rate\",fontsize=20,\n",
    "          color=\"black\")\n",
    "sns.barplot(x='int_rate_bin', y='loan_status_bin', data=loan)\n",
    "plt.show()"
   ]
  },
  {
   "cell_type": "code",
   "execution_count": null,
   "id": "e816d94a",
   "metadata": {},
   "outputs": [],
   "source": []
  },
  {
   "cell_type": "markdown",
   "id": "5cb348a8",
   "metadata": {},
   "source": [
    "###  *Findings - The chargedoff loan % increases as there is a increase in the int_rate* "
   ]
  },
  {
   "cell_type": "markdown",
   "id": "65baa739",
   "metadata": {},
   "source": [
    "### Analyse the chargedoff loan by dti"
   ]
  },
  {
   "cell_type": "code",
   "execution_count": 130,
   "id": "6f9db779",
   "metadata": {},
   "outputs": [
    {
     "data": {
      "image/png": "[encoded data removed]",
      "text/plain": [
       "<Figure size 1440x576 with 1 Axes>"
      ]
     },
     "metadata": {
      "needs_background": "light"
     },
     "output_type": "display_data"
    }
   ],
   "source": [
    "#bin the dti\n",
    "bins = [0, 5.00, 10.00, 15.00, 20.00, 25.00, 50.00]\n",
    "bucket = ['0-5', '5-10', '10-15', '15-20', '20-25','25+']\n",
    "loan['dti_bin'] = pd.cut(loan['dti'], bins, labels=bucket)\n",
    "\n",
    "plt.figure(figsize=(20,8))\n",
    "plt.title(\"Analysis of Chargedoff loan by dti\",fontsize=20,\n",
    "          color=\"black\")\n",
    "sns.barplot(x='dti_bin', y='loan_status_bin', data=loan)\n",
    "plt.show()"
   ]
  },
  {
   "cell_type": "markdown",
   "id": "df701b64",
   "metadata": {},
   "source": [
    "###  *Findings - The chargedoff loan increases as there is a increase in the dti* "
   ]
  },
  {
   "cell_type": "markdown",
   "id": "7401ff2c",
   "metadata": {},
   "source": [
    "### Analyse the Chargedoff loan by funded_amnt_inv"
   ]
  },
  {
   "cell_type": "code",
   "execution_count": 131,
   "id": "886ad0a6",
   "metadata": {},
   "outputs": [
    {
     "data": {
      "image/png": "[encoded data removed]",
      "text/plain": [
       "<Figure size 1440x576 with 1 Axes>"
      ]
     },
     "metadata": {
      "needs_background": "light"
     },
     "output_type": "display_data"
    }
   ],
   "source": [
    "plt.figure(figsize=(20,8))\n",
    "plt.title(\"Analysis of Chargedoff loan by funded_amnt_inv\",fontsize=20,\n",
    "          color=\"black\")\n",
    "sns.boxplot(data=loan, x=\"loan_status\",y=\"funded_amnt_inv\" )\n",
    "plt.show()"
   ]
  },
  {
   "cell_type": "markdown",
   "id": "4e5612c8",
   "metadata": {},
   "source": [
    "### *Findings The median and the quantile ranges are almost the same for Chargedoff and FullyPaid Loans. The outliers indicate the higher the funded_amnt_inv the higher the risk of Chargedoff*"
   ]
  },
  {
   "cell_type": "markdown",
   "id": "39f9594a",
   "metadata": {},
   "source": [
    "### Analyse chargedoff loan by addr_state"
   ]
  },
  {
   "cell_type": "code",
   "execution_count": 52,
   "id": "04521a00",
   "metadata": {},
   "outputs": [
    {
     "data": {
      "image/png": "[encoded data removed]",
      "text/plain": [
       "<Figure size 1440x576 with 1 Axes>"
      ]
     },
     "metadata": {
      "needs_background": "light"
     },
     "output_type": "display_data"
    }
   ],
   "source": [
    "plt.figure(figsize=(20,8))\n",
    "plt.title(\"Analysis of Chargedoff loan by addr_state\",fontsize=20,\n",
    "          color=\"black\")\n",
    "\n",
    "sns.histplot(data=loan, x=\"addr_state\", hue=\"loan_status\",multiple=\"stack\")\n",
    "plt.show()"
   ]
  },
  {
   "cell_type": "markdown",
   "id": "9a15328d",
   "metadata": {},
   "source": [
    "### *Findings There are no significant findings for chargedoff in relevance to the addr_state*"
   ]
  },
  {
   "cell_type": "markdown",
   "id": "c374221c",
   "metadata": {},
   "source": [
    "### Analyse chargedoff loan by annual_inc"
   ]
  },
  {
   "cell_type": "code",
   "execution_count": 105,
   "id": "e180abe4",
   "metadata": {},
   "outputs": [
    {
     "data": {
      "image/png": "[encoded data removed]",
      "text/plain": [
       "<Figure size 1440x576 with 1 Axes>"
      ]
     },
     "metadata": {
      "needs_background": "light"
     },
     "output_type": "display_data"
    }
   ],
   "source": [
    "bins = [0, 25000, 50000, 75000, 100000, 1000000]\n",
    "bucket = ['0-25000', '25000-50000', '50000-75000', '75000-100000', '100000+']\n",
    "loan['annual_inc_bin'] = pd.cut(loan['annual_inc'], bins, labels=bucket)\n",
    "\n",
    "plt.figure(figsize=(20,8))\n",
    "plt.title(\"Analysis of Chargedoff loan by annual_inc\",fontsize=20,\n",
    "          color=\"black\")\n",
    "sns.barplot(x='annual_inc_bin', y='loan_status_bin', data=loan)\n",
    "plt.show()"
   ]
  },
  {
   "cell_type": "markdown",
   "id": "8b5efbcf",
   "metadata": {},
   "source": [
    "### *Findings The chargeoff decreases as there is an increase in the annual_inc*"
   ]
  },
  {
   "cell_type": "markdown",
   "id": "2d3f5a2d",
   "metadata": {},
   "source": [
    "### Heatmap analysis"
   ]
  },
  {
   "cell_type": "code",
   "execution_count": 57,
   "id": "06723e90",
   "metadata": {},
   "outputs": [
    {
     "data": {
      "image/png": "[encoded data removed]",
      "text/plain": [
       "<Figure size 1440x720 with 2 Axes>"
      ]
     },
     "metadata": {
      "needs_background": "light"
     },
     "output_type": "display_data"
    }
   ],
   "source": [
    "plt.figure(figsize=(20,10))\n",
    "plt.title(\"Heatmap analysis for correlation\",fontsize=20,\n",
    "          color=\"black\")\n",
    "hf = chargedOff[['funded_amnt_inv', 'term','int_rate','annual_inc','total_acc','emp_length']]\n",
    "\n",
    "     \n",
    "sns.heatmap(hf.corr(), \n",
    "            xticklabels=hf.columns,\n",
    "            yticklabels=hf.columns,\n",
    "            annot=True,\n",
    "            )\n",
    "plt.show()"
   ]
  },
  {
   "cell_type": "markdown",
   "id": "f5e0478f",
   "metadata": {},
   "source": [
    "### *Findings The red boxes indicate entities of higher correlation \n",
    "funded_amnt_inv  and term, \\\n",
    "term and int_rate, \\\n",
    "funded_amnt_inv and int_rate,   \\\n",
    "funded_amnt_inv and annual_inc *"
   ]
  }
 ],
 "metadata": {
  "kernelspec": {
   "display_name": "Python 3 (ipykernel)",
   "language": "python",
   "name": "python3"
  },
  "language_info": {
   "codemirror_mode": {
    "name": "ipython",
    "version": 3
   },
   "file_extension": ".py",
   "mimetype": "text/x-python",
   "name": "python",
   "nbconvert_exporter": "python",
   "pygments_lexer": "ipython3",
   "version": "3.9.7"
  }
 },
 "nbformat": 4,
 "nbformat_minor": 5
}
